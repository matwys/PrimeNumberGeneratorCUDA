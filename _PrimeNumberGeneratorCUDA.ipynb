{
 "cells": [
  {
   "cell_type": "code",
   "execution_count": 1,
   "id": "2b0d0a8c",
   "metadata": {},
   "outputs": [],
   "source": [
    "from numba import cuda\n",
    "import cupy as cp\n",
    "import numpy as np"
   ]
  },
  {
   "cell_type": "code",
   "execution_count": 2,
   "id": "2715bab8",
   "metadata": {},
   "outputs": [],
   "source": [
    "@cuda.jit\n",
    "def cuda_prime(C, start):\n",
    "    i, j = cuda.grid(2)  \n",
    "    if i < C.shape[0] and j < C.shape[1]:\n",
    "        check = 0\n",
    "        for k in range(2, i*C.shape[1] + j + start):\n",
    "            if(k*k>i*C.shape[1] + j + start):\n",
    "                break\n",
    "            if((i*C.shape[1] + j + start)% k == 0):\n",
    "                check = 1\n",
    "                break\n",
    "        if(check == 0):\n",
    "            C[i, j] = i*C.shape[1] + j + start"
   ]
  },
  {
   "cell_type": "code",
   "execution_count": 3,
   "id": "6539b928",
   "metadata": {},
   "outputs": [],
   "source": [
    "def cpu_prime(start, size):\n",
    "    sum = 0\n",
    "    for i in range(start, size + start):\n",
    "        check = 0\n",
    "        for j in range(start, int((size + start)**0.5)):\n",
    "            if(i%j==0):\n",
    "                check = 1\n",
    "                break\n",
    "        if(check == 0):\n",
    "            sum = sum + 1"
   ]
  },
  {
   "cell_type": "code",
   "execution_count": 4,
   "id": "b9f6df3b",
   "metadata": {},
   "outputs": [
    {
     "name": "stdout",
     "output_type": "stream",
     "text": [
      "(50, 50)\n",
      "The kernel will be executed up to element 800\n"
     ]
    }
   ],
   "source": [
    "cp.random.seed(42)\n",
    "sizeMatrix = 800\n",
    "start = 2\n",
    "C = cp.zeros((sizeMatrix,sizeMatrix), dtype=np.int32)\n",
    "TPB = 16\n",
    "threadsperblock = (TPB, TPB)  # each block will contain 16x16 threads, typically 128 - 512 threads/block\n",
    "blockspergrid_x = int(np.ceil(sizeMatrix / threadsperblock[0]))\n",
    "blockspergrid_y = int(np.ceil(sizeMatrix / threadsperblock[1]))\n",
    "blockspergrid = (blockspergrid_x, blockspergrid_y)\n",
    "print(blockspergrid)\n",
    "print(f\"The kernel will be executed up to element {threadsperblock[0]*blockspergrid_x}\")"
   ]
  },
  {
   "cell_type": "code",
   "execution_count": 5,
   "id": "c9d0ea7c",
   "metadata": {},
   "outputs": [
    {
     "name": "stdout",
     "output_type": "stream",
     "text": [
      "Wall time: 56.7 s\n"
     ]
    }
   ],
   "source": [
    "%%time\n",
    "for i in range (100):\n",
    "    cuda_prime[blockspergrid, threadsperblock](C, start)"
   ]
  },
  {
   "cell_type": "code",
   "execution_count": 6,
   "id": "c067776f",
   "metadata": {},
   "outputs": [
    {
     "name": "stdout",
     "output_type": "stream",
     "text": [
      "Wall time: 6.96 s\n"
     ]
    }
   ],
   "source": [
    "%%time\n",
    "cpu_prime(start, sizeMatrix*sizeMatrix)"
   ]
  },
  {
   "cell_type": "code",
   "execution_count": null,
   "id": "2040c610",
   "metadata": {},
   "outputs": [],
   "source": []
  }
 ],
 "metadata": {
  "kernelspec": {
   "display_name": "Python 3",
   "language": "python",
   "name": "python3"
  },
  "language_info": {
   "codemirror_mode": {
    "name": "ipython",
    "version": 3
   },
   "file_extension": ".py",
   "mimetype": "text/x-python",
   "name": "python",
   "nbconvert_exporter": "python",
   "pygments_lexer": "ipython3",
   "version": "3.8.8"
  }
 },
 "nbformat": 4,
 "nbformat_minor": 5
}
